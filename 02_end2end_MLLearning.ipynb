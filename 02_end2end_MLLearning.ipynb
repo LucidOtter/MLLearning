{
 "cells": [
  {
   "cell_type": "markdown",
   "id": "3bdbdb7a-2672-4d0a-aaac-a43ee6c0742c",
   "metadata": {},
   "source": [
    "# Introduction\n",
    "This first project is based on Chapter 2 of \"Hands-On Machine Learning with Scikit-Learn, Keras & TensorFlow\" by Aurélien Géron.\n",
    "It is intended as a copy-pasted project to try and confirm that the concept of this chapter were correctly assimilated.\n",
    "\n",
    "## Direction\n",
    "The intent of this ML project is to predict the price of houses in a given California district. This output should be a numerical value in US dollars, and the input data is block data from the US census bureau."
   ]
  },
  {
   "cell_type": "code",
   "execution_count": null,
   "id": "8cea0a5a-c15b-4648-9937-33056dec7e31",
   "metadata": {},
   "outputs": [],
   "source": [
    "from pathlib import Path\n",
    "import pandas as pd\n",
    "import numpy as np\n",
    "import tarfile\n",
    "import urllib.request\n",
    "import matplotlib.pyplot as plt\n",
    "import pdb\n",
    "from sklearn.model_selection import train_test_split"
   ]
  },
  {
   "cell_type": "markdown",
   "id": "43c4f52a-dae6-4ade-8673-d1d7e93b269c",
   "metadata": {},
   "source": [
    "## Data Import\n",
    "Define a function that will load the data. If the data  is not present locally, it will be automatically donwload in a local \"datasets\" repository."
   ]
  },
  {
   "cell_type": "code",
   "execution_count": null,
   "id": "47f10aa7-1118-442e-bed3-b31dd80a3f7d",
   "metadata": {},
   "outputs": [],
   "source": [
    "def load_housing_data():\n",
    "    tarball_path=Path(\"./datasets/housing.tgz\")\n",
    "    if not tarball_path.is_file():\n",
    "        Path(\"./datasets\").mkdir(parents=True, exist_ok=True)\n",
    "        url=\"https://github.com/ageron/data/raw/main/housing.tgz\"\n",
    "\n",
    "        urllib.request.urlretrieve(url, tarball_path)\n",
    "        with tarfile.open(tarball_path) as housing_tarball:\n",
    "            housing_tarball.extractall(path=\"datasets\")\n",
    "    print(Path(\"./datasets/housing/housing.csv\"))\n",
    "    return pd.read_csv(Path(\"./datasets/housing/housing.csv\"))"
   ]
  },
  {
   "cell_type": "markdown",
   "id": "1719d955-0ea1-4f94-9e9b-0c279735987a",
   "metadata": {},
   "source": [
    "Import the data, based on the previous defined function"
   ]
  },
  {
   "cell_type": "code",
   "execution_count": null,
   "id": "97d26800-d7f7-4fb6-8ec7-b0f280f3137d",
   "metadata": {},
   "outputs": [],
   "source": [
    "housing = load_housing_data()"
   ]
  },
  {
   "cell_type": "markdown",
   "id": "03e37bbc-3cff-41c6-b781-b477e3dc594d",
   "metadata": {
    "jp-MarkdownHeadingCollapsed": true
   },
   "source": [
    "## Data Exploration"
   ]
  },
  {
   "cell_type": "markdown",
   "id": "a2700764-6f6e-409b-ad11-605b276a7d86",
   "metadata": {},
   "source": [
    "Quickly reprensentation of the data contained in the table to see what it looks like."
   ]
  },
  {
   "cell_type": "code",
   "execution_count": null,
   "id": "9cc0d8e5-953f-4847-af6a-88e2d069ada8",
   "metadata": {},
   "outputs": [],
   "source": [
    "housing.info()"
   ]
  },
  {
   "cell_type": "markdown",
   "id": "e4651e3a-9845-44f8-af72-46df8c4e5cb5",
   "metadata": {},
   "source": [
    "This dataset contains 9 numeric columns, and one column with a different data type.\n",
    "\n",
    "We can also see that only _total\\_bedrooms_ is missing any value, the rest of the column is complete. \n",
    "Hence, we will have to assess what to do for this specific column, drop it or impute values?\n",
    "\n",
    "Let's use describe and let's create an histogram to obtain more insight about numerical columns."
   ]
  },
  {
   "cell_type": "code",
   "execution_count": null,
   "id": "3871ee3d-5863-4d7f-8293-33808092526b",
   "metadata": {},
   "outputs": [],
   "source": [
    "housing.describe()"
   ]
  },
  {
   "cell_type": "code",
   "execution_count": null,
   "id": "93a2310f",
   "metadata": {},
   "outputs": [],
   "source": [
    "housing.hist(bins=50, figsize=(12,8))\n",
    "plt.show()"
   ]
  },
  {
   "cell_type": "markdown",
   "id": "4c9d928c-0519-4e09-9f8b-49b9f4c01f3b",
   "metadata": {},
   "source": [
    "The variables _latitude_ and _longitude_ seem defined appropriately and do not present too many oddities, except for their bimodal distributions.\n",
    "\n",
    "The variables _housing\\_median\\_age_ is distributed between 1 and 52, so it's relates to the age of the *house*, not of the inhabitants. Furthermore, the median age is capped at 52, and all centennial house will be given this value instead.\n",
    "\n",
    "The variables _total\\_rooms_, _total\\_bedrooms_, _population_, _households_ do not present anything odd, but will require to be transformed in order to be more symmetric.\n",
    "\n",
    "The variable _median\\_income_ is not only skewed right, but is not expressed in US dollar, as well ,as being capped at 0.5 and 15. Each unit represents ~$10'000.\n",
    "\n",
    "Finally, the variable _median\\_house\\_value_ is both skewed to the right, as well as being capped of at $500'000, there will need to be transformed for better symmetry.\n",
    "\n",
    "\n"
   ]
  },
  {
   "cell_type": "markdown",
   "id": "0a9c3703-853f-4344-8e8a-6c316e77c94f",
   "metadata": {},
   "source": [
    "## Train-Test Split\n",
    "Before going any further, it's important to split the test data from the test dataset and to not look at the former until we are confident in our model.\n",
    "\n",
    "### Stratification\n",
    "According to experts, median income is a extremely important predictor of median housing prices, and therefore we should ensure that the distribution of this variable is similar in our training and testing sets."
   ]
  },
  {
   "cell_type": "code",
   "execution_count": null,
   "id": "a88aae4a-8ba2-4246-9def-018d61673f3c",
   "metadata": {},
   "outputs": [],
   "source": [
    "strat_train_set, strat_test_set = train_test_split(housing, test_size=0.2, stratify=housing[\"median_income\"], random_state = 42)"
   ]
  },
  {
   "cell_type": "code",
   "execution_count": null,
   "id": "0a3948b8-4e93-4c9c-aeeb-8199de2139e1",
   "metadata": {},
   "outputs": [],
   "source": []
  },
  {
   "cell_type": "code",
   "execution_count": null,
   "id": "40b2c4da-e128-4c0c-8026-ca7921cee186",
   "metadata": {},
   "outputs": [],
   "source": []
  },
  {
   "cell_type": "code",
   "execution_count": null,
   "id": "6c294235-1aa9-4a3e-94aa-4b213ab0cdf8",
   "metadata": {},
   "outputs": [],
   "source": []
  }
 ],
 "metadata": {
  "kernelspec": {
   "display_name": "Python 3 (ipykernel)",
   "language": "python",
   "name": "python3"
  },
  "language_info": {
   "codemirror_mode": {
    "name": "ipython",
    "version": 3
   },
   "file_extension": ".py",
   "mimetype": "text/x-python",
   "name": "python",
   "nbconvert_exporter": "python",
   "pygments_lexer": "ipython3",
   "version": "3.10.6"
  },
  "toc": {
   "base_numbering": 0
  }
 },
 "nbformat": 4,
 "nbformat_minor": 5
}

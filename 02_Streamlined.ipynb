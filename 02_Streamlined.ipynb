{
 "cells": [
  {
   "cell_type": "markdown",
   "id": "64b50cb1-6a4a-43a9-82bb-722dd3323003",
   "metadata": {},
   "source": [
    "# Introduction\n",
    "Streamlined version of 02_end2end_MLLearning.ipynb"
   ]
  },
  {
   "cell_type": "code",
   "execution_count": 1,
   "id": "e779548b-84e6-41ac-8a6f-eb42c706b085",
   "metadata": {},
   "outputs": [],
   "source": [
    "from pathlib import Path\n",
    "import pandas as pd\n",
    "import numpy as np\n",
    "import tarfile\n",
    "import urllib.request\n",
    "import matplotlib.pyplot as plt\n",
    "import time\n",
    "import pdb\n",
    "import joblib, os, pickle\n",
    "from scipy import stats\n",
    "from datetime import datetime\n",
    "\n",
    "from sklearn.model_selection import train_test_split, cross_val_score, GridSearchCV, RandomizedSearchCV\n",
    "from sklearn.impute import SimpleImputer\n",
    "from sklearn.preprocessing import FunctionTransformer, StandardScaler, OneHotEncoder\n",
    "from sklearn.pipeline import Pipeline, make_pipeline\n",
    "from sklearn.compose import ColumnTransformer, make_column_selector, make_column_transformer\n",
    "from sklearn.linear_model import LinearRegression\n",
    "from sklearn.metrics import mean_squared_error\n",
    "from sklearn.ensemble import RandomForestRegressor\n",
    "\n",
    "from MLTools import ClusterSimilarity, column_ratio, ratio_name, AgeSimilarity, load_housing_data"
   ]
  },
  {
   "cell_type": "markdown",
   "id": "1b7696dd-4948-4b66-9c41-7ac6d0f65591",
   "metadata": {},
   "source": [
    "# Data Import"
   ]
  },
  {
   "cell_type": "code",
   "execution_count": 3,
   "id": "090e9431-31cf-4864-b896-6f9954bc1440",
   "metadata": {},
   "outputs": [
    {
     "name": "stdout",
     "output_type": "stream",
     "text": [
      "datasets/housing/housing.csv\n"
     ]
    }
   ],
   "source": [
    "housing = load_housing_data()"
   ]
  },
  {
   "cell_type": "markdown",
   "id": "a6fff3b2-f9c1-4647-b26e-dcf45baed01c",
   "metadata": {},
   "source": [
    "# Train Test Split"
   ]
  },
  {
   "cell_type": "markdown",
   "id": "e69c3128-6dc8-442c-a847-5ca5e68bbba7",
   "metadata": {},
   "source": [
    "## Discretization"
   ]
  },
  {
   "cell_type": "code",
   "execution_count": 4,
   "id": "2f5597f1-6ffa-4a70-b1f8-5fd07635c583",
   "metadata": {
    "tags": []
   },
   "outputs": [],
   "source": [
    "# housing[\"income_cat\"] = pd.qcut(housing.median_income, 5, labels = [1, 2, 3, 4, 5])\n",
    "# housing.drop(\"income_cat\", axis=1, inplace=True)\n",
    "housing_income_cat = pd.qcut(housing.median_income, 5, labels = [1, 2, 3, 4, 5])"
   ]
  },
  {
   "cell_type": "code",
   "execution_count": 5,
   "id": "6c361172-dffb-488c-8d86-520ea8d29ae1",
   "metadata": {},
   "outputs": [],
   "source": [
    "strat_train_set, strat_test_set = train_test_split(housing, test_size=0.2, stratify=housing_income_cat, random_state=42)\n",
    "housing = strat_train_set.drop(\"median_house_value\", axis=1)\n",
    "housing_labels = strat_train_set[\"median_house_value\"].copy()"
   ]
  },
  {
   "cell_type": "markdown",
   "id": "db989dd1-f67f-4775-8e62-90ee7fd0679e",
   "metadata": {},
   "source": [
    "## Pipelines"
   ]
  },
  {
   "cell_type": "markdown",
   "id": "f58a89b4-1ab6-4819-9497-5dbbf46c0cff",
   "metadata": {},
   "source": [
    "### Ratio Pipeline\n",
    "This is a very simple pipeline/function which encompass all operations necessary to compute ratio operations (such as defining _rooms\\_per\\__house_ previously)"
   ]
  },
  {
   "cell_type": "code",
   "execution_count": 6,
   "id": "83066cf8-3084-4493-ae31-4a199ffbeab6",
   "metadata": {
    "tags": []
   },
   "outputs": [],
   "source": [
    "ratio_pipeline = Pipeline([    \n",
    "    (\"impute\", SimpleImputer(strategy=\"median\")),\n",
    "    (\"computeRatio\", FunctionTransformer(column_ratio, feature_names_out=ratio_name)),\n",
    "    (\"standardize\", StandardScaler())\n",
    "])"
   ]
  },
  {
   "cell_type": "markdown",
   "id": "153d54ed-0772-4f74-9c12-e4829e81832f",
   "metadata": {
    "tags": []
   },
   "source": [
    "### Logarithm Pipeline\n",
    "Features which present long tails to the right, and therefore need to be transformed in order to be more symmetric.\n",
    "\n",
    "This will be done by replacing these features with their logarithm."
   ]
  },
  {
   "cell_type": "code",
   "execution_count": 7,
   "id": "6033cc51-5933-48c7-9ca2-04492a1e5246",
   "metadata": {
    "tags": []
   },
   "outputs": [],
   "source": [
    "log_pipeline = Pipeline([\n",
    "    (\"impute\", SimpleImputer(strategy=\"median\")),\n",
    "    (\"computeLog\", FunctionTransformer(np.log, feature_names_out=\"one-to-one\")), # Don't ask me WHY feature_names_out must be \"one-to-one\", but it crashes if it's anything else!\n",
    "    (\"standardize\", StandardScaler())\n",
    "])"
   ]
  },
  {
   "cell_type": "markdown",
   "id": "fca9468a-d2c7-4b60-ae4e-b412f00a38f6",
   "metadata": {},
   "source": [
    "### Geography Pipeline\n",
    "As mentioned earlier, contextualizing the latitude and longitude in their current form is difficult for experts and machines, therefore we want to transform them to simplify this.\n",
    "\n",
    "The book offers a great idea in which we compute clusters/hotspots of house values, then we compute the distance of each geographic coordinates to the nearest cluster!\n",
    "I am hopeful I would have thought of the base idea, but I am not sure I'd have been able to implement it. But since I'm here to learn, I will shamelessly steal their implementation.\n",
    "\n",
    "The first step of this pipeline is to compute k-means clusters of the two geographic coordinates we pass in arguments (bunch up together the x and y coordinates and finds the closest clusters).\n",
    "\n",
    "Then, we use _rbf\\_kernel_ to compute the similarity (according to ~all (non-geographic) features (income, age, total\\_rooms, etc.))~ the geographic distance between each district (rows in the _housing_ table) and each cluster center.\n",
    "Therefore, the output of this will be a matrix with the same number of rows as _housing_ and 1 column per cluster center."
   ]
  },
  {
   "cell_type": "code",
   "execution_count": 8,
   "id": "366ac249-5b84-46fa-aa85-af476eeb6a6e",
   "metadata": {
    "tags": []
   },
   "outputs": [],
   "source": [
    "cluster_simil = ClusterSimilarity(n_clusters=10, gamma=1, random_state=42)"
   ]
  },
  {
   "cell_type": "markdown",
   "id": "bbcbe614-54f7-4243-b292-c9f9960b008f",
   "metadata": {},
   "source": [
    "### Categorical Pipeline\n",
    "The variable _ocean\\_proximity_ is a categorical, and to allow correct processing by our algorithms, we will transform it into numerical. But to avoid \"ordering\" them, we will use a binary attribute per category, so that \"proximity\" in number (0: 'Near Bay', 1: '>2H Ocean', for example) is not interpreted as a proximity in value. To do so, we will use OneHotEncoder."
   ]
  },
  {
   "cell_type": "code",
   "execution_count": 9,
   "id": "b8f4cc18-38ee-43b9-b806-634fa580b682",
   "metadata": {
    "tags": []
   },
   "outputs": [],
   "source": [
    "cat_pipeline = Pipeline([\n",
    "    (\"impute\", SimpleImputer(strategy=\"most_frequent\")),\n",
    "    (\"OneHotEncoder\", OneHotEncoder(handle_unknown=\"ignore\")),\n",
    "])"
   ]
  },
  {
   "cell_type": "markdown",
   "id": "3a37cae0-6b4a-4d09-a3c7-308995dc6e4e",
   "metadata": {
    "tags": []
   },
   "source": [
    "### Default Numerical Pipeline"
   ]
  },
  {
   "cell_type": "code",
   "execution_count": 10,
   "id": "7fa0219f-fdb8-4912-a2a5-3730c9d8f30a",
   "metadata": {
    "tags": []
   },
   "outputs": [],
   "source": [
    "default_num_pipeline = Pipeline([\n",
    "    (\"impute\", SimpleImputer(strategy=\"median\")),\n",
    "    (\"standardize\", StandardScaler()),\n",
    "])"
   ]
  },
  {
   "cell_type": "markdown",
   "id": "40053562-f71a-408f-9c84-f96bb7909b47",
   "metadata": {
    "tags": []
   },
   "source": [
    "### Age - K-Means + rbf_kernel\n",
    "\n",
    "*Let's start again from scratch*.\n",
    "Let's fit a gaussian distribution around 39 and 17 (these values were obtained previously thanks to k-means clustering), and then somehow, for each point, compute the similarity to each "
   ]
  },
  {
   "cell_type": "code",
   "execution_count": 11,
   "id": "8c5154d2-dad4-48b1-955c-3c59353e2811",
   "metadata": {
    "tags": []
   },
   "outputs": [],
   "source": [
    "age_simil = ClusterSimilarity(n_clusters=2, random_state=42)\n",
    "similarities = age_simil.fit_transform(housing[[\"housing_median_age\"]])"
   ]
  },
  {
   "cell_type": "markdown",
   "id": "494eb39b-8cd6-49ea-b68f-316218bf5455",
   "metadata": {},
   "source": [
    "### Complete Transformer"
   ]
  },
  {
   "cell_type": "code",
   "execution_count": 12,
   "id": "ee961644-b172-4060-9c90-a54be8ed2da9",
   "metadata": {
    "tags": []
   },
   "outputs": [],
   "source": [
    "preprocessing = ColumnTransformer([\n",
    "    (\"bedrooms\", ratio_pipeline, [\"total_bedrooms\", \"total_rooms\"]),\n",
    "    (\"rooms_per_house\", ratio_pipeline, [\"total_rooms\", \"households\"]),\n",
    "    (\"people_per_house\", ratio_pipeline, [\"population\", \"households\"]),\n",
    "    (\"log\", log_pipeline, [\"total_bedrooms\", \"total_rooms\", \"population\", \"households\", \"median_income\"]),\n",
    "    (\"geo\", cluster_simil, [\"latitude\", \"longitude\"]),\n",
    "    (\"cat\", cat_pipeline, make_column_selector(dtype_include=object)),\n",
    "    (\"age\", age_simil, [\"housing_median_age\"]),\n",
    "], remainder=default_num_pipeline)"
   ]
  },
  {
   "cell_type": "code",
   "execution_count": 13,
   "id": "ebae737e-8fca-45b9-937d-4ebba6745211",
   "metadata": {
    "tags": []
   },
   "outputs": [
    {
     "data": {
      "text/plain": [
       "(16512, 25)"
      ]
     },
     "execution_count": 13,
     "metadata": {},
     "output_type": "execute_result"
    }
   ],
   "source": [
    "housing_prepared = preprocessing.fit_transform(housing)\n",
    "housing_prepared.shape"
   ]
  },
  {
   "cell_type": "code",
   "execution_count": 14,
   "id": "2e8daf57-a0da-447b-aff6-0015534071a9",
   "metadata": {
    "tags": []
   },
   "outputs": [
    {
     "data": {
      "text/plain": [
       "array(['bedrooms__ratio', 'rooms_per_house__ratio',\n",
       "       'people_per_house__ratio', 'log__total_bedrooms',\n",
       "       'log__total_rooms', 'log__population', 'log__households',\n",
       "       'log__median_income', 'geo__Cluster 0 similarity',\n",
       "       'geo__Cluster 1 similarity', 'geo__Cluster 2 similarity',\n",
       "       'geo__Cluster 3 similarity', 'geo__Cluster 4 similarity',\n",
       "       'geo__Cluster 5 similarity', 'geo__Cluster 6 similarity',\n",
       "       'geo__Cluster 7 similarity', 'geo__Cluster 8 similarity',\n",
       "       'geo__Cluster 9 similarity', 'cat__ocean_proximity_<1H OCEAN',\n",
       "       'cat__ocean_proximity_INLAND', 'cat__ocean_proximity_ISLAND',\n",
       "       'cat__ocean_proximity_NEAR BAY', 'cat__ocean_proximity_NEAR OCEAN',\n",
       "       'age__Cluster 0 similarity', 'age__Cluster 1 similarity'],\n",
       "      dtype=object)"
      ]
     },
     "execution_count": 14,
     "metadata": {},
     "output_type": "execute_result"
    }
   ],
   "source": [
    "preprocessing.get_feature_names_out()"
   ]
  },
  {
   "cell_type": "markdown",
   "id": "1cfbb582-32aa-48a1-bda1-523340511e38",
   "metadata": {
    "tags": []
   },
   "source": [
    "## Select and Train a Model"
   ]
  },
  {
   "cell_type": "markdown",
   "id": "2ee1dc26-8f1e-4eb3-940d-ac51f9e7e2e4",
   "metadata": {},
   "source": [
    "### Random Forest Regressor"
   ]
  },
  {
   "cell_type": "code",
   "execution_count": 15,
   "id": "830e6994-e377-4cb0-b8f2-d40ffa919cd1",
   "metadata": {
    "tags": []
   },
   "outputs": [
    {
     "name": "stdout",
     "output_type": "stream",
     "text": [
      "RMSE for Random Forest Regressor:  17791.15\n"
     ]
    }
   ],
   "source": [
    "forest_reg = Pipeline([\n",
    "    (\"preprocessing\", preprocessing),\n",
    "    (\"ForestReg\", RandomForestRegressor(random_state=42)),\n",
    "])\n",
    "forest_reg.fit(housing, housing_labels)\n",
    "housing_predictions_forestReg = forest_reg.predict(housing)\n",
    "\n",
    "forest_rmse = mean_squared_error(housing_labels, housing_predictions_forestReg, squared=False)\n",
    "print('RMSE for Random Forest Regressor: ', forest_rmse.round(2))"
   ]
  },
  {
   "cell_type": "markdown",
   "id": "487ea154-4699-4f99-975b-dd0843cc7b61",
   "metadata": {
    "tags": []
   },
   "source": [
    "## Model Fine-Tuning\n",
    "Even when a model seems pretty appropriate, it is a good idea to check if it can't be improved by fine-tuning its hyper-parameters."
   ]
  },
  {
   "cell_type": "markdown",
   "id": "56d5547c-55d4-4a98-8211-28f9f3fc20d7",
   "metadata": {},
   "source": [
    "### Randomized Search\n",
    "As we saw with the previous example, _GridSearchCV_ is not a scalable options for optimizing hyper-parameters. For this, we will make use of *RandomizedSearchCV*."
   ]
  },
  {
   "cell_type": "code",
   "execution_count": 16,
   "id": "484f9321-6da1-43e0-8686-259606e7e2d2",
   "metadata": {
    "tags": []
   },
   "outputs": [
    {
     "data": {
      "text/html": [
       "<style>#sk-container-id-1 {color: black;background-color: white;}#sk-container-id-1 pre{padding: 0;}#sk-container-id-1 div.sk-toggleable {background-color: white;}#sk-container-id-1 label.sk-toggleable__label {cursor: pointer;display: block;width: 100%;margin-bottom: 0;padding: 0.3em;box-sizing: border-box;text-align: center;}#sk-container-id-1 label.sk-toggleable__label-arrow:before {content: \"▸\";float: left;margin-right: 0.25em;color: #696969;}#sk-container-id-1 label.sk-toggleable__label-arrow:hover:before {color: black;}#sk-container-id-1 div.sk-estimator:hover label.sk-toggleable__label-arrow:before {color: black;}#sk-container-id-1 div.sk-toggleable__content {max-height: 0;max-width: 0;overflow: hidden;text-align: left;background-color: #f0f8ff;}#sk-container-id-1 div.sk-toggleable__content pre {margin: 0.2em;color: black;border-radius: 0.25em;background-color: #f0f8ff;}#sk-container-id-1 input.sk-toggleable__control:checked~div.sk-toggleable__content {max-height: 200px;max-width: 100%;overflow: auto;}#sk-container-id-1 input.sk-toggleable__control:checked~label.sk-toggleable__label-arrow:before {content: \"▾\";}#sk-container-id-1 div.sk-estimator input.sk-toggleable__control:checked~label.sk-toggleable__label {background-color: #d4ebff;}#sk-container-id-1 div.sk-label input.sk-toggleable__control:checked~label.sk-toggleable__label {background-color: #d4ebff;}#sk-container-id-1 input.sk-hidden--visually {border: 0;clip: rect(1px 1px 1px 1px);clip: rect(1px, 1px, 1px, 1px);height: 1px;margin: -1px;overflow: hidden;padding: 0;position: absolute;width: 1px;}#sk-container-id-1 div.sk-estimator {font-family: monospace;background-color: #f0f8ff;border: 1px dotted black;border-radius: 0.25em;box-sizing: border-box;margin-bottom: 0.5em;}#sk-container-id-1 div.sk-estimator:hover {background-color: #d4ebff;}#sk-container-id-1 div.sk-parallel-item::after {content: \"\";width: 100%;border-bottom: 1px solid gray;flex-grow: 1;}#sk-container-id-1 div.sk-label:hover label.sk-toggleable__label {background-color: #d4ebff;}#sk-container-id-1 div.sk-serial::before {content: \"\";position: absolute;border-left: 1px solid gray;box-sizing: border-box;top: 0;bottom: 0;left: 50%;z-index: 0;}#sk-container-id-1 div.sk-serial {display: flex;flex-direction: column;align-items: center;background-color: white;padding-right: 0.2em;padding-left: 0.2em;position: relative;}#sk-container-id-1 div.sk-item {position: relative;z-index: 1;}#sk-container-id-1 div.sk-parallel {display: flex;align-items: stretch;justify-content: center;background-color: white;position: relative;}#sk-container-id-1 div.sk-item::before, #sk-container-id-1 div.sk-parallel-item::before {content: \"\";position: absolute;border-left: 1px solid gray;box-sizing: border-box;top: 0;bottom: 0;left: 50%;z-index: -1;}#sk-container-id-1 div.sk-parallel-item {display: flex;flex-direction: column;z-index: 1;position: relative;background-color: white;}#sk-container-id-1 div.sk-parallel-item:first-child::after {align-self: flex-end;width: 50%;}#sk-container-id-1 div.sk-parallel-item:last-child::after {align-self: flex-start;width: 50%;}#sk-container-id-1 div.sk-parallel-item:only-child::after {width: 0;}#sk-container-id-1 div.sk-dashed-wrapped {border: 1px dashed gray;margin: 0 0.4em 0.5em 0.4em;box-sizing: border-box;padding-bottom: 0.4em;background-color: white;}#sk-container-id-1 div.sk-label label {font-family: monospace;font-weight: bold;display: inline-block;line-height: 1.2em;}#sk-container-id-1 div.sk-label-container {text-align: center;}#sk-container-id-1 div.sk-container {/* jupyter's `normalize.less` sets `[hidden] { display: none; }` but bootstrap.min.css set `[hidden] { display: none !important; }` so we also need the `!important` here to be able to override the default hidden behavior on the sphinx rendered scikit-learn.org. See: https://github.com/scikit-learn/scikit-learn/issues/21755 */display: inline-block !important;position: relative;}#sk-container-id-1 div.sk-text-repr-fallback {display: none;}</style><div id=\"sk-container-id-1\" class=\"sk-top-container\"><div class=\"sk-text-repr-fallback\"><pre>RandomizedSearchCV(cv=3,\n",
       "                   estimator=Pipeline(steps=[(&#x27;preprocessing&#x27;,\n",
       "                                              ColumnTransformer(remainder=Pipeline(steps=[(&#x27;impute&#x27;,\n",
       "                                                                                           SimpleImputer(strategy=&#x27;median&#x27;)),\n",
       "                                                                                          (&#x27;standardize&#x27;,\n",
       "                                                                                           StandardScaler())]),\n",
       "                                                                transformers=[(&#x27;bedrooms&#x27;,\n",
       "                                                                               Pipeline(steps=[(&#x27;impute&#x27;,\n",
       "                                                                                                SimpleImputer(strategy=&#x27;median&#x27;)),\n",
       "                                                                                               (&#x27;computeRatio&#x27;,\n",
       "                                                                                                FunctionTransformer(feature_names_out=&lt;function ratio_name a...\n",
       "                                                                               [&#x27;housing_median_age&#x27;])])),\n",
       "                                             (&#x27;ForestReg&#x27;,\n",
       "                                              RandomForestRegressor(random_state=42))]),\n",
       "                   param_distributions={&#x27;ForestReg__max_features&#x27;: &lt;scipy.stats._distn_infrastructure.rv_discrete_frozen object at 0x7f4c29276a40&gt;,\n",
       "                                        &#x27;preprocessing__geo__n_clusters&#x27;: &lt;scipy.stats._distn_infrastructure.rv_discrete_frozen object at 0x7f4c29275fc0&gt;},\n",
       "                   random_state=117, scoring=&#x27;neg_root_mean_squared_error&#x27;)</pre><b>In a Jupyter environment, please rerun this cell to show the HTML representation or trust the notebook. <br />On GitHub, the HTML representation is unable to render, please try loading this page with nbviewer.org.</b></div><div class=\"sk-container\" hidden><div class=\"sk-item sk-dashed-wrapped\"><div class=\"sk-label-container\"><div class=\"sk-label sk-toggleable\"><input class=\"sk-toggleable__control sk-hidden--visually\" id=\"sk-estimator-id-1\" type=\"checkbox\" ><label for=\"sk-estimator-id-1\" class=\"sk-toggleable__label sk-toggleable__label-arrow\">RandomizedSearchCV</label><div class=\"sk-toggleable__content\"><pre>RandomizedSearchCV(cv=3,\n",
       "                   estimator=Pipeline(steps=[(&#x27;preprocessing&#x27;,\n",
       "                                              ColumnTransformer(remainder=Pipeline(steps=[(&#x27;impute&#x27;,\n",
       "                                                                                           SimpleImputer(strategy=&#x27;median&#x27;)),\n",
       "                                                                                          (&#x27;standardize&#x27;,\n",
       "                                                                                           StandardScaler())]),\n",
       "                                                                transformers=[(&#x27;bedrooms&#x27;,\n",
       "                                                                               Pipeline(steps=[(&#x27;impute&#x27;,\n",
       "                                                                                                SimpleImputer(strategy=&#x27;median&#x27;)),\n",
       "                                                                                               (&#x27;computeRatio&#x27;,\n",
       "                                                                                                FunctionTransformer(feature_names_out=&lt;function ratio_name a...\n",
       "                                                                               [&#x27;housing_median_age&#x27;])])),\n",
       "                                             (&#x27;ForestReg&#x27;,\n",
       "                                              RandomForestRegressor(random_state=42))]),\n",
       "                   param_distributions={&#x27;ForestReg__max_features&#x27;: &lt;scipy.stats._distn_infrastructure.rv_discrete_frozen object at 0x7f4c29276a40&gt;,\n",
       "                                        &#x27;preprocessing__geo__n_clusters&#x27;: &lt;scipy.stats._distn_infrastructure.rv_discrete_frozen object at 0x7f4c29275fc0&gt;},\n",
       "                   random_state=117, scoring=&#x27;neg_root_mean_squared_error&#x27;)</pre></div></div></div><div class=\"sk-parallel\"><div class=\"sk-parallel-item\"><div class=\"sk-item\"><div class=\"sk-label-container\"><div class=\"sk-label sk-toggleable\"><input class=\"sk-toggleable__control sk-hidden--visually\" id=\"sk-estimator-id-2\" type=\"checkbox\" ><label for=\"sk-estimator-id-2\" class=\"sk-toggleable__label sk-toggleable__label-arrow\">estimator: Pipeline</label><div class=\"sk-toggleable__content\"><pre>Pipeline(steps=[(&#x27;preprocessing&#x27;,\n",
       "                 ColumnTransformer(remainder=Pipeline(steps=[(&#x27;impute&#x27;,\n",
       "                                                              SimpleImputer(strategy=&#x27;median&#x27;)),\n",
       "                                                             (&#x27;standardize&#x27;,\n",
       "                                                              StandardScaler())]),\n",
       "                                   transformers=[(&#x27;bedrooms&#x27;,\n",
       "                                                  Pipeline(steps=[(&#x27;impute&#x27;,\n",
       "                                                                   SimpleImputer(strategy=&#x27;median&#x27;)),\n",
       "                                                                  (&#x27;computeRatio&#x27;,\n",
       "                                                                   FunctionTransformer(feature_names_out=&lt;function ratio_name at 0x7f4c297593f0&gt;,\n",
       "                                                                                       func=&lt;function col...\n",
       "                                                 (&#x27;cat&#x27;,\n",
       "                                                  Pipeline(steps=[(&#x27;impute&#x27;,\n",
       "                                                                   SimpleImputer(strategy=&#x27;most_frequent&#x27;)),\n",
       "                                                                  (&#x27;OneHotEncoder&#x27;,\n",
       "                                                                   OneHotEncoder(handle_unknown=&#x27;ignore&#x27;))]),\n",
       "                                                  &lt;sklearn.compose._column_transformer.make_column_selector object at 0x7f4c2980d600&gt;),\n",
       "                                                 (&#x27;age&#x27;,\n",
       "                                                  ClusterSimilarity(n_clusters=2,\n",
       "                                                                    random_state=42),\n",
       "                                                  [&#x27;housing_median_age&#x27;])])),\n",
       "                (&#x27;ForestReg&#x27;, RandomForestRegressor(random_state=42))])</pre></div></div></div><div class=\"sk-serial\"><div class=\"sk-item\"><div class=\"sk-serial\"><div class=\"sk-item sk-dashed-wrapped\"><div class=\"sk-label-container\"><div class=\"sk-label sk-toggleable\"><input class=\"sk-toggleable__control sk-hidden--visually\" id=\"sk-estimator-id-3\" type=\"checkbox\" ><label for=\"sk-estimator-id-3\" class=\"sk-toggleable__label sk-toggleable__label-arrow\">preprocessing: ColumnTransformer</label><div class=\"sk-toggleable__content\"><pre>ColumnTransformer(remainder=Pipeline(steps=[(&#x27;impute&#x27;,\n",
       "                                             SimpleImputer(strategy=&#x27;median&#x27;)),\n",
       "                                            (&#x27;standardize&#x27;, StandardScaler())]),\n",
       "                  transformers=[(&#x27;bedrooms&#x27;,\n",
       "                                 Pipeline(steps=[(&#x27;impute&#x27;,\n",
       "                                                  SimpleImputer(strategy=&#x27;median&#x27;)),\n",
       "                                                 (&#x27;computeRatio&#x27;,\n",
       "                                                  FunctionTransformer(feature_names_out=&lt;function ratio_name at 0x7f4c297593f0&gt;,\n",
       "                                                                      func=&lt;function column_ratio at 0x7f4c29b08310&gt;)),\n",
       "                                                 (&#x27;st...\n",
       "                                 ClusterSimilarity(gamma=1, random_state=42),\n",
       "                                 [&#x27;latitude&#x27;, &#x27;longitude&#x27;]),\n",
       "                                (&#x27;cat&#x27;,\n",
       "                                 Pipeline(steps=[(&#x27;impute&#x27;,\n",
       "                                                  SimpleImputer(strategy=&#x27;most_frequent&#x27;)),\n",
       "                                                 (&#x27;OneHotEncoder&#x27;,\n",
       "                                                  OneHotEncoder(handle_unknown=&#x27;ignore&#x27;))]),\n",
       "                                 &lt;sklearn.compose._column_transformer.make_column_selector object at 0x7f4c2980d600&gt;),\n",
       "                                (&#x27;age&#x27;,\n",
       "                                 ClusterSimilarity(n_clusters=2,\n",
       "                                                   random_state=42),\n",
       "                                 [&#x27;housing_median_age&#x27;])])</pre></div></div></div><div class=\"sk-parallel\"><div class=\"sk-parallel-item\"><div class=\"sk-item\"><div class=\"sk-label-container\"><div class=\"sk-label sk-toggleable\"><input class=\"sk-toggleable__control sk-hidden--visually\" id=\"sk-estimator-id-4\" type=\"checkbox\" ><label for=\"sk-estimator-id-4\" class=\"sk-toggleable__label sk-toggleable__label-arrow\">bedrooms</label><div class=\"sk-toggleable__content\"><pre>[&#x27;total_bedrooms&#x27;, &#x27;total_rooms&#x27;]</pre></div></div></div><div class=\"sk-serial\"><div class=\"sk-item\"><div class=\"sk-serial\"><div class=\"sk-item\"><div class=\"sk-estimator sk-toggleable\"><input class=\"sk-toggleable__control sk-hidden--visually\" id=\"sk-estimator-id-5\" type=\"checkbox\" ><label for=\"sk-estimator-id-5\" class=\"sk-toggleable__label sk-toggleable__label-arrow\">SimpleImputer</label><div class=\"sk-toggleable__content\"><pre>SimpleImputer(strategy=&#x27;median&#x27;)</pre></div></div></div><div class=\"sk-item\"><div class=\"sk-estimator sk-toggleable\"><input class=\"sk-toggleable__control sk-hidden--visually\" id=\"sk-estimator-id-6\" type=\"checkbox\" ><label for=\"sk-estimator-id-6\" class=\"sk-toggleable__label sk-toggleable__label-arrow\">FunctionTransformer</label><div class=\"sk-toggleable__content\"><pre>FunctionTransformer(feature_names_out=&lt;function ratio_name at 0x7f4c297593f0&gt;,\n",
       "                    func=&lt;function column_ratio at 0x7f4c29b08310&gt;)</pre></div></div></div><div class=\"sk-item\"><div class=\"sk-estimator sk-toggleable\"><input class=\"sk-toggleable__control sk-hidden--visually\" id=\"sk-estimator-id-7\" type=\"checkbox\" ><label for=\"sk-estimator-id-7\" class=\"sk-toggleable__label sk-toggleable__label-arrow\">StandardScaler</label><div class=\"sk-toggleable__content\"><pre>StandardScaler()</pre></div></div></div></div></div></div></div></div><div class=\"sk-parallel-item\"><div class=\"sk-item\"><div class=\"sk-label-container\"><div class=\"sk-label sk-toggleable\"><input class=\"sk-toggleable__control sk-hidden--visually\" id=\"sk-estimator-id-8\" type=\"checkbox\" ><label for=\"sk-estimator-id-8\" class=\"sk-toggleable__label sk-toggleable__label-arrow\">rooms_per_house</label><div class=\"sk-toggleable__content\"><pre>[&#x27;total_rooms&#x27;, &#x27;households&#x27;]</pre></div></div></div><div class=\"sk-serial\"><div class=\"sk-item\"><div class=\"sk-serial\"><div class=\"sk-item\"><div class=\"sk-estimator sk-toggleable\"><input class=\"sk-toggleable__control sk-hidden--visually\" id=\"sk-estimator-id-9\" type=\"checkbox\" ><label for=\"sk-estimator-id-9\" class=\"sk-toggleable__label sk-toggleable__label-arrow\">SimpleImputer</label><div class=\"sk-toggleable__content\"><pre>SimpleImputer(strategy=&#x27;median&#x27;)</pre></div></div></div><div class=\"sk-item\"><div class=\"sk-estimator sk-toggleable\"><input class=\"sk-toggleable__control sk-hidden--visually\" id=\"sk-estimator-id-10\" type=\"checkbox\" ><label for=\"sk-estimator-id-10\" class=\"sk-toggleable__label sk-toggleable__label-arrow\">FunctionTransformer</label><div class=\"sk-toggleable__content\"><pre>FunctionTransformer(feature_names_out=&lt;function ratio_name at 0x7f4c297593f0&gt;,\n",
       "                    func=&lt;function column_ratio at 0x7f4c29b08310&gt;)</pre></div></div></div><div class=\"sk-item\"><div class=\"sk-estimator sk-toggleable\"><input class=\"sk-toggleable__control sk-hidden--visually\" id=\"sk-estimator-id-11\" type=\"checkbox\" ><label for=\"sk-estimator-id-11\" class=\"sk-toggleable__label sk-toggleable__label-arrow\">StandardScaler</label><div class=\"sk-toggleable__content\"><pre>StandardScaler()</pre></div></div></div></div></div></div></div></div><div class=\"sk-parallel-item\"><div class=\"sk-item\"><div class=\"sk-label-container\"><div class=\"sk-label sk-toggleable\"><input class=\"sk-toggleable__control sk-hidden--visually\" id=\"sk-estimator-id-12\" type=\"checkbox\" ><label for=\"sk-estimator-id-12\" class=\"sk-toggleable__label sk-toggleable__label-arrow\">people_per_house</label><div class=\"sk-toggleable__content\"><pre>[&#x27;population&#x27;, &#x27;households&#x27;]</pre></div></div></div><div class=\"sk-serial\"><div class=\"sk-item\"><div class=\"sk-serial\"><div class=\"sk-item\"><div class=\"sk-estimator sk-toggleable\"><input class=\"sk-toggleable__control sk-hidden--visually\" id=\"sk-estimator-id-13\" type=\"checkbox\" ><label for=\"sk-estimator-id-13\" class=\"sk-toggleable__label sk-toggleable__label-arrow\">SimpleImputer</label><div class=\"sk-toggleable__content\"><pre>SimpleImputer(strategy=&#x27;median&#x27;)</pre></div></div></div><div class=\"sk-item\"><div class=\"sk-estimator sk-toggleable\"><input class=\"sk-toggleable__control sk-hidden--visually\" id=\"sk-estimator-id-14\" type=\"checkbox\" ><label for=\"sk-estimator-id-14\" class=\"sk-toggleable__label sk-toggleable__label-arrow\">FunctionTransformer</label><div class=\"sk-toggleable__content\"><pre>FunctionTransformer(feature_names_out=&lt;function ratio_name at 0x7f4c297593f0&gt;,\n",
       "                    func=&lt;function column_ratio at 0x7f4c29b08310&gt;)</pre></div></div></div><div class=\"sk-item\"><div class=\"sk-estimator sk-toggleable\"><input class=\"sk-toggleable__control sk-hidden--visually\" id=\"sk-estimator-id-15\" type=\"checkbox\" ><label for=\"sk-estimator-id-15\" class=\"sk-toggleable__label sk-toggleable__label-arrow\">StandardScaler</label><div class=\"sk-toggleable__content\"><pre>StandardScaler()</pre></div></div></div></div></div></div></div></div><div class=\"sk-parallel-item\"><div class=\"sk-item\"><div class=\"sk-label-container\"><div class=\"sk-label sk-toggleable\"><input class=\"sk-toggleable__control sk-hidden--visually\" id=\"sk-estimator-id-16\" type=\"checkbox\" ><label for=\"sk-estimator-id-16\" class=\"sk-toggleable__label sk-toggleable__label-arrow\">log</label><div class=\"sk-toggleable__content\"><pre>[&#x27;total_bedrooms&#x27;, &#x27;total_rooms&#x27;, &#x27;population&#x27;, &#x27;households&#x27;, &#x27;median_income&#x27;]</pre></div></div></div><div class=\"sk-serial\"><div class=\"sk-item\"><div class=\"sk-serial\"><div class=\"sk-item\"><div class=\"sk-estimator sk-toggleable\"><input class=\"sk-toggleable__control sk-hidden--visually\" id=\"sk-estimator-id-17\" type=\"checkbox\" ><label for=\"sk-estimator-id-17\" class=\"sk-toggleable__label sk-toggleable__label-arrow\">SimpleImputer</label><div class=\"sk-toggleable__content\"><pre>SimpleImputer(strategy=&#x27;median&#x27;)</pre></div></div></div><div class=\"sk-item\"><div class=\"sk-estimator sk-toggleable\"><input class=\"sk-toggleable__control sk-hidden--visually\" id=\"sk-estimator-id-18\" type=\"checkbox\" ><label for=\"sk-estimator-id-18\" class=\"sk-toggleable__label sk-toggleable__label-arrow\">FunctionTransformer</label><div class=\"sk-toggleable__content\"><pre>FunctionTransformer(feature_names_out=&#x27;one-to-one&#x27;, func=&lt;ufunc &#x27;log&#x27;&gt;)</pre></div></div></div><div class=\"sk-item\"><div class=\"sk-estimator sk-toggleable\"><input class=\"sk-toggleable__control sk-hidden--visually\" id=\"sk-estimator-id-19\" type=\"checkbox\" ><label for=\"sk-estimator-id-19\" class=\"sk-toggleable__label sk-toggleable__label-arrow\">StandardScaler</label><div class=\"sk-toggleable__content\"><pre>StandardScaler()</pre></div></div></div></div></div></div></div></div><div class=\"sk-parallel-item\"><div class=\"sk-item\"><div class=\"sk-label-container\"><div class=\"sk-label sk-toggleable\"><input class=\"sk-toggleable__control sk-hidden--visually\" id=\"sk-estimator-id-20\" type=\"checkbox\" ><label for=\"sk-estimator-id-20\" class=\"sk-toggleable__label sk-toggleable__label-arrow\">geo</label><div class=\"sk-toggleable__content\"><pre>[&#x27;latitude&#x27;, &#x27;longitude&#x27;]</pre></div></div></div><div class=\"sk-serial\"><div class=\"sk-item\"><div class=\"sk-estimator sk-toggleable\"><input class=\"sk-toggleable__control sk-hidden--visually\" id=\"sk-estimator-id-21\" type=\"checkbox\" ><label for=\"sk-estimator-id-21\" class=\"sk-toggleable__label sk-toggleable__label-arrow\">ClusterSimilarity</label><div class=\"sk-toggleable__content\"><pre>ClusterSimilarity(gamma=1, random_state=42)</pre></div></div></div></div></div></div><div class=\"sk-parallel-item\"><div class=\"sk-item\"><div class=\"sk-label-container\"><div class=\"sk-label sk-toggleable\"><input class=\"sk-toggleable__control sk-hidden--visually\" id=\"sk-estimator-id-22\" type=\"checkbox\" ><label for=\"sk-estimator-id-22\" class=\"sk-toggleable__label sk-toggleable__label-arrow\">cat</label><div class=\"sk-toggleable__content\"><pre>&lt;sklearn.compose._column_transformer.make_column_selector object at 0x7f4c2980d600&gt;</pre></div></div></div><div class=\"sk-serial\"><div class=\"sk-item\"><div class=\"sk-serial\"><div class=\"sk-item\"><div class=\"sk-estimator sk-toggleable\"><input class=\"sk-toggleable__control sk-hidden--visually\" id=\"sk-estimator-id-23\" type=\"checkbox\" ><label for=\"sk-estimator-id-23\" class=\"sk-toggleable__label sk-toggleable__label-arrow\">SimpleImputer</label><div class=\"sk-toggleable__content\"><pre>SimpleImputer(strategy=&#x27;most_frequent&#x27;)</pre></div></div></div><div class=\"sk-item\"><div class=\"sk-estimator sk-toggleable\"><input class=\"sk-toggleable__control sk-hidden--visually\" id=\"sk-estimator-id-24\" type=\"checkbox\" ><label for=\"sk-estimator-id-24\" class=\"sk-toggleable__label sk-toggleable__label-arrow\">OneHotEncoder</label><div class=\"sk-toggleable__content\"><pre>OneHotEncoder(handle_unknown=&#x27;ignore&#x27;)</pre></div></div></div></div></div></div></div></div><div class=\"sk-parallel-item\"><div class=\"sk-item\"><div class=\"sk-label-container\"><div class=\"sk-label sk-toggleable\"><input class=\"sk-toggleable__control sk-hidden--visually\" id=\"sk-estimator-id-25\" type=\"checkbox\" ><label for=\"sk-estimator-id-25\" class=\"sk-toggleable__label sk-toggleable__label-arrow\">age</label><div class=\"sk-toggleable__content\"><pre>[&#x27;housing_median_age&#x27;]</pre></div></div></div><div class=\"sk-serial\"><div class=\"sk-item\"><div class=\"sk-estimator sk-toggleable\"><input class=\"sk-toggleable__control sk-hidden--visually\" id=\"sk-estimator-id-26\" type=\"checkbox\" ><label for=\"sk-estimator-id-26\" class=\"sk-toggleable__label sk-toggleable__label-arrow\">ClusterSimilarity</label><div class=\"sk-toggleable__content\"><pre>ClusterSimilarity(n_clusters=2, random_state=42)</pre></div></div></div></div></div></div><div class=\"sk-parallel-item\"><div class=\"sk-item\"><div class=\"sk-label-container\"><div class=\"sk-label sk-toggleable\"><input class=\"sk-toggleable__control sk-hidden--visually\" id=\"sk-estimator-id-27\" type=\"checkbox\" ><label for=\"sk-estimator-id-27\" class=\"sk-toggleable__label sk-toggleable__label-arrow\">remainder</label><div class=\"sk-toggleable__content\"><pre>[]</pre></div></div></div><div class=\"sk-serial\"><div class=\"sk-item\"><div class=\"sk-serial\"><div class=\"sk-item\"><div class=\"sk-estimator sk-toggleable\"><input class=\"sk-toggleable__control sk-hidden--visually\" id=\"sk-estimator-id-28\" type=\"checkbox\" ><label for=\"sk-estimator-id-28\" class=\"sk-toggleable__label sk-toggleable__label-arrow\">SimpleImputer</label><div class=\"sk-toggleable__content\"><pre>SimpleImputer(strategy=&#x27;median&#x27;)</pre></div></div></div><div class=\"sk-item\"><div class=\"sk-estimator sk-toggleable\"><input class=\"sk-toggleable__control sk-hidden--visually\" id=\"sk-estimator-id-29\" type=\"checkbox\" ><label for=\"sk-estimator-id-29\" class=\"sk-toggleable__label sk-toggleable__label-arrow\">StandardScaler</label><div class=\"sk-toggleable__content\"><pre>StandardScaler()</pre></div></div></div></div></div></div></div></div></div></div><div class=\"sk-item\"><div class=\"sk-estimator sk-toggleable\"><input class=\"sk-toggleable__control sk-hidden--visually\" id=\"sk-estimator-id-30\" type=\"checkbox\" ><label for=\"sk-estimator-id-30\" class=\"sk-toggleable__label sk-toggleable__label-arrow\">RandomForestRegressor</label><div class=\"sk-toggleable__content\"><pre>RandomForestRegressor(random_state=42)</pre></div></div></div></div></div></div></div></div></div></div></div></div>"
      ],
      "text/plain": [
       "RandomizedSearchCV(cv=3,\n",
       "                   estimator=Pipeline(steps=[('preprocessing',\n",
       "                                              ColumnTransformer(remainder=Pipeline(steps=[('impute',\n",
       "                                                                                           SimpleImputer(strategy='median')),\n",
       "                                                                                          ('standardize',\n",
       "                                                                                           StandardScaler())]),\n",
       "                                                                transformers=[('bedrooms',\n",
       "                                                                               Pipeline(steps=[('impute',\n",
       "                                                                                                SimpleImputer(strategy='median')),\n",
       "                                                                                               ('computeRatio',\n",
       "                                                                                                FunctionTransformer(feature_names_out=<function ratio_name a...\n",
       "                                                                               ['housing_median_age'])])),\n",
       "                                             ('ForestReg',\n",
       "                                              RandomForestRegressor(random_state=42))]),\n",
       "                   param_distributions={'ForestReg__max_features': <scipy.stats._distn_infrastructure.rv_discrete_frozen object at 0x7f4c29276a40>,\n",
       "                                        'preprocessing__geo__n_clusters': <scipy.stats._distn_infrastructure.rv_discrete_frozen object at 0x7f4c29275fc0>},\n",
       "                   random_state=117, scoring='neg_root_mean_squared_error')"
      ]
     },
     "execution_count": 16,
     "metadata": {},
     "output_type": "execute_result"
    }
   ],
   "source": [
    "params_distrib = {'preprocessing__geo__n_clusters': stats.randint(low=3, high=50),\n",
    "     'ForestReg__max_features': stats.randint(low=2, high=20)}\n",
    "\n",
    "rand_search = RandomizedSearchCV(forest_reg, param_distributions=params_distrib, n_iter=10, cv=3, scoring='neg_root_mean_squared_error', random_state=117)\n",
    "rand_search.fit(housing, housing_labels)"
   ]
  },
  {
   "cell_type": "code",
   "execution_count": 17,
   "id": "6a7ecb98-28ac-411c-b80f-9d441355cbce",
   "metadata": {
    "tags": []
   },
   "outputs": [
    {
     "data": {
      "text/html": [
       "<style>#sk-container-id-2 {color: black;background-color: white;}#sk-container-id-2 pre{padding: 0;}#sk-container-id-2 div.sk-toggleable {background-color: white;}#sk-container-id-2 label.sk-toggleable__label {cursor: pointer;display: block;width: 100%;margin-bottom: 0;padding: 0.3em;box-sizing: border-box;text-align: center;}#sk-container-id-2 label.sk-toggleable__label-arrow:before {content: \"▸\";float: left;margin-right: 0.25em;color: #696969;}#sk-container-id-2 label.sk-toggleable__label-arrow:hover:before {color: black;}#sk-container-id-2 div.sk-estimator:hover label.sk-toggleable__label-arrow:before {color: black;}#sk-container-id-2 div.sk-toggleable__content {max-height: 0;max-width: 0;overflow: hidden;text-align: left;background-color: #f0f8ff;}#sk-container-id-2 div.sk-toggleable__content pre {margin: 0.2em;color: black;border-radius: 0.25em;background-color: #f0f8ff;}#sk-container-id-2 input.sk-toggleable__control:checked~div.sk-toggleable__content {max-height: 200px;max-width: 100%;overflow: auto;}#sk-container-id-2 input.sk-toggleable__control:checked~label.sk-toggleable__label-arrow:before {content: \"▾\";}#sk-container-id-2 div.sk-estimator input.sk-toggleable__control:checked~label.sk-toggleable__label {background-color: #d4ebff;}#sk-container-id-2 div.sk-label input.sk-toggleable__control:checked~label.sk-toggleable__label {background-color: #d4ebff;}#sk-container-id-2 input.sk-hidden--visually {border: 0;clip: rect(1px 1px 1px 1px);clip: rect(1px, 1px, 1px, 1px);height: 1px;margin: -1px;overflow: hidden;padding: 0;position: absolute;width: 1px;}#sk-container-id-2 div.sk-estimator {font-family: monospace;background-color: #f0f8ff;border: 1px dotted black;border-radius: 0.25em;box-sizing: border-box;margin-bottom: 0.5em;}#sk-container-id-2 div.sk-estimator:hover {background-color: #d4ebff;}#sk-container-id-2 div.sk-parallel-item::after {content: \"\";width: 100%;border-bottom: 1px solid gray;flex-grow: 1;}#sk-container-id-2 div.sk-label:hover label.sk-toggleable__label {background-color: #d4ebff;}#sk-container-id-2 div.sk-serial::before {content: \"\";position: absolute;border-left: 1px solid gray;box-sizing: border-box;top: 0;bottom: 0;left: 50%;z-index: 0;}#sk-container-id-2 div.sk-serial {display: flex;flex-direction: column;align-items: center;background-color: white;padding-right: 0.2em;padding-left: 0.2em;position: relative;}#sk-container-id-2 div.sk-item {position: relative;z-index: 1;}#sk-container-id-2 div.sk-parallel {display: flex;align-items: stretch;justify-content: center;background-color: white;position: relative;}#sk-container-id-2 div.sk-item::before, #sk-container-id-2 div.sk-parallel-item::before {content: \"\";position: absolute;border-left: 1px solid gray;box-sizing: border-box;top: 0;bottom: 0;left: 50%;z-index: -1;}#sk-container-id-2 div.sk-parallel-item {display: flex;flex-direction: column;z-index: 1;position: relative;background-color: white;}#sk-container-id-2 div.sk-parallel-item:first-child::after {align-self: flex-end;width: 50%;}#sk-container-id-2 div.sk-parallel-item:last-child::after {align-self: flex-start;width: 50%;}#sk-container-id-2 div.sk-parallel-item:only-child::after {width: 0;}#sk-container-id-2 div.sk-dashed-wrapped {border: 1px dashed gray;margin: 0 0.4em 0.5em 0.4em;box-sizing: border-box;padding-bottom: 0.4em;background-color: white;}#sk-container-id-2 div.sk-label label {font-family: monospace;font-weight: bold;display: inline-block;line-height: 1.2em;}#sk-container-id-2 div.sk-label-container {text-align: center;}#sk-container-id-2 div.sk-container {/* jupyter's `normalize.less` sets `[hidden] { display: none; }` but bootstrap.min.css set `[hidden] { display: none !important; }` so we also need the `!important` here to be able to override the default hidden behavior on the sphinx rendered scikit-learn.org. See: https://github.com/scikit-learn/scikit-learn/issues/21755 */display: inline-block !important;position: relative;}#sk-container-id-2 div.sk-text-repr-fallback {display: none;}</style><div id=\"sk-container-id-2\" class=\"sk-top-container\"><div class=\"sk-text-repr-fallback\"><pre>Pipeline(steps=[(&#x27;preprocessing&#x27;,\n",
       "                 ColumnTransformer(remainder=Pipeline(steps=[(&#x27;impute&#x27;,\n",
       "                                                              SimpleImputer(strategy=&#x27;median&#x27;)),\n",
       "                                                             (&#x27;standardize&#x27;,\n",
       "                                                              StandardScaler())]),\n",
       "                                   transformers=[(&#x27;bedrooms&#x27;,\n",
       "                                                  Pipeline(steps=[(&#x27;impute&#x27;,\n",
       "                                                                   SimpleImputer(strategy=&#x27;median&#x27;)),\n",
       "                                                                  (&#x27;computeRatio&#x27;,\n",
       "                                                                   FunctionTransformer(feature_names_out=&lt;function ratio_name at 0x7f4c297593f0&gt;,\n",
       "                                                                                       func=&lt;function col...\n",
       "                                                  Pipeline(steps=[(&#x27;impute&#x27;,\n",
       "                                                                   SimpleImputer(strategy=&#x27;most_frequent&#x27;)),\n",
       "                                                                  (&#x27;OneHotEncoder&#x27;,\n",
       "                                                                   OneHotEncoder(handle_unknown=&#x27;ignore&#x27;))]),\n",
       "                                                  &lt;sklearn.compose._column_transformer.make_column_selector object at 0x7f4c292f12d0&gt;),\n",
       "                                                 (&#x27;age&#x27;,\n",
       "                                                  ClusterSimilarity(n_clusters=2,\n",
       "                                                                    random_state=42),\n",
       "                                                  [&#x27;housing_median_age&#x27;])])),\n",
       "                (&#x27;ForestReg&#x27;,\n",
       "                 RandomForestRegressor(max_features=4, random_state=42))])</pre><b>In a Jupyter environment, please rerun this cell to show the HTML representation or trust the notebook. <br />On GitHub, the HTML representation is unable to render, please try loading this page with nbviewer.org.</b></div><div class=\"sk-container\" hidden><div class=\"sk-item sk-dashed-wrapped\"><div class=\"sk-label-container\"><div class=\"sk-label sk-toggleable\"><input class=\"sk-toggleable__control sk-hidden--visually\" id=\"sk-estimator-id-31\" type=\"checkbox\" ><label for=\"sk-estimator-id-31\" class=\"sk-toggleable__label sk-toggleable__label-arrow\">Pipeline</label><div class=\"sk-toggleable__content\"><pre>Pipeline(steps=[(&#x27;preprocessing&#x27;,\n",
       "                 ColumnTransformer(remainder=Pipeline(steps=[(&#x27;impute&#x27;,\n",
       "                                                              SimpleImputer(strategy=&#x27;median&#x27;)),\n",
       "                                                             (&#x27;standardize&#x27;,\n",
       "                                                              StandardScaler())]),\n",
       "                                   transformers=[(&#x27;bedrooms&#x27;,\n",
       "                                                  Pipeline(steps=[(&#x27;impute&#x27;,\n",
       "                                                                   SimpleImputer(strategy=&#x27;median&#x27;)),\n",
       "                                                                  (&#x27;computeRatio&#x27;,\n",
       "                                                                   FunctionTransformer(feature_names_out=&lt;function ratio_name at 0x7f4c297593f0&gt;,\n",
       "                                                                                       func=&lt;function col...\n",
       "                                                  Pipeline(steps=[(&#x27;impute&#x27;,\n",
       "                                                                   SimpleImputer(strategy=&#x27;most_frequent&#x27;)),\n",
       "                                                                  (&#x27;OneHotEncoder&#x27;,\n",
       "                                                                   OneHotEncoder(handle_unknown=&#x27;ignore&#x27;))]),\n",
       "                                                  &lt;sklearn.compose._column_transformer.make_column_selector object at 0x7f4c292f12d0&gt;),\n",
       "                                                 (&#x27;age&#x27;,\n",
       "                                                  ClusterSimilarity(n_clusters=2,\n",
       "                                                                    random_state=42),\n",
       "                                                  [&#x27;housing_median_age&#x27;])])),\n",
       "                (&#x27;ForestReg&#x27;,\n",
       "                 RandomForestRegressor(max_features=4, random_state=42))])</pre></div></div></div><div class=\"sk-serial\"><div class=\"sk-item sk-dashed-wrapped\"><div class=\"sk-label-container\"><div class=\"sk-label sk-toggleable\"><input class=\"sk-toggleable__control sk-hidden--visually\" id=\"sk-estimator-id-32\" type=\"checkbox\" ><label for=\"sk-estimator-id-32\" class=\"sk-toggleable__label sk-toggleable__label-arrow\">preprocessing: ColumnTransformer</label><div class=\"sk-toggleable__content\"><pre>ColumnTransformer(remainder=Pipeline(steps=[(&#x27;impute&#x27;,\n",
       "                                             SimpleImputer(strategy=&#x27;median&#x27;)),\n",
       "                                            (&#x27;standardize&#x27;, StandardScaler())]),\n",
       "                  transformers=[(&#x27;bedrooms&#x27;,\n",
       "                                 Pipeline(steps=[(&#x27;impute&#x27;,\n",
       "                                                  SimpleImputer(strategy=&#x27;median&#x27;)),\n",
       "                                                 (&#x27;computeRatio&#x27;,\n",
       "                                                  FunctionTransformer(feature_names_out=&lt;function ratio_name at 0x7f4c297593f0&gt;,\n",
       "                                                                      func=&lt;function column_ratio at 0x7f4c29b08310&gt;)),\n",
       "                                                 (&#x27;st...\n",
       "                                 ClusterSimilarity(gamma=1, n_clusters=29,\n",
       "                                                   random_state=42),\n",
       "                                 [&#x27;latitude&#x27;, &#x27;longitude&#x27;]),\n",
       "                                (&#x27;cat&#x27;,\n",
       "                                 Pipeline(steps=[(&#x27;impute&#x27;,\n",
       "                                                  SimpleImputer(strategy=&#x27;most_frequent&#x27;)),\n",
       "                                                 (&#x27;OneHotEncoder&#x27;,\n",
       "                                                  OneHotEncoder(handle_unknown=&#x27;ignore&#x27;))]),\n",
       "                                 &lt;sklearn.compose._column_transformer.make_column_selector object at 0x7f4c292f12d0&gt;),\n",
       "                                (&#x27;age&#x27;,\n",
       "                                 ClusterSimilarity(n_clusters=2,\n",
       "                                                   random_state=42),\n",
       "                                 [&#x27;housing_median_age&#x27;])])</pre></div></div></div><div class=\"sk-parallel\"><div class=\"sk-parallel-item\"><div class=\"sk-item\"><div class=\"sk-label-container\"><div class=\"sk-label sk-toggleable\"><input class=\"sk-toggleable__control sk-hidden--visually\" id=\"sk-estimator-id-33\" type=\"checkbox\" ><label for=\"sk-estimator-id-33\" class=\"sk-toggleable__label sk-toggleable__label-arrow\">bedrooms</label><div class=\"sk-toggleable__content\"><pre>[&#x27;total_bedrooms&#x27;, &#x27;total_rooms&#x27;]</pre></div></div></div><div class=\"sk-serial\"><div class=\"sk-item\"><div class=\"sk-serial\"><div class=\"sk-item\"><div class=\"sk-estimator sk-toggleable\"><input class=\"sk-toggleable__control sk-hidden--visually\" id=\"sk-estimator-id-34\" type=\"checkbox\" ><label for=\"sk-estimator-id-34\" class=\"sk-toggleable__label sk-toggleable__label-arrow\">SimpleImputer</label><div class=\"sk-toggleable__content\"><pre>SimpleImputer(strategy=&#x27;median&#x27;)</pre></div></div></div><div class=\"sk-item\"><div class=\"sk-estimator sk-toggleable\"><input class=\"sk-toggleable__control sk-hidden--visually\" id=\"sk-estimator-id-35\" type=\"checkbox\" ><label for=\"sk-estimator-id-35\" class=\"sk-toggleable__label sk-toggleable__label-arrow\">FunctionTransformer</label><div class=\"sk-toggleable__content\"><pre>FunctionTransformer(feature_names_out=&lt;function ratio_name at 0x7f4c297593f0&gt;,\n",
       "                    func=&lt;function column_ratio at 0x7f4c29b08310&gt;)</pre></div></div></div><div class=\"sk-item\"><div class=\"sk-estimator sk-toggleable\"><input class=\"sk-toggleable__control sk-hidden--visually\" id=\"sk-estimator-id-36\" type=\"checkbox\" ><label for=\"sk-estimator-id-36\" class=\"sk-toggleable__label sk-toggleable__label-arrow\">StandardScaler</label><div class=\"sk-toggleable__content\"><pre>StandardScaler()</pre></div></div></div></div></div></div></div></div><div class=\"sk-parallel-item\"><div class=\"sk-item\"><div class=\"sk-label-container\"><div class=\"sk-label sk-toggleable\"><input class=\"sk-toggleable__control sk-hidden--visually\" id=\"sk-estimator-id-37\" type=\"checkbox\" ><label for=\"sk-estimator-id-37\" class=\"sk-toggleable__label sk-toggleable__label-arrow\">rooms_per_house</label><div class=\"sk-toggleable__content\"><pre>[&#x27;total_rooms&#x27;, &#x27;households&#x27;]</pre></div></div></div><div class=\"sk-serial\"><div class=\"sk-item\"><div class=\"sk-serial\"><div class=\"sk-item\"><div class=\"sk-estimator sk-toggleable\"><input class=\"sk-toggleable__control sk-hidden--visually\" id=\"sk-estimator-id-38\" type=\"checkbox\" ><label for=\"sk-estimator-id-38\" class=\"sk-toggleable__label sk-toggleable__label-arrow\">SimpleImputer</label><div class=\"sk-toggleable__content\"><pre>SimpleImputer(strategy=&#x27;median&#x27;)</pre></div></div></div><div class=\"sk-item\"><div class=\"sk-estimator sk-toggleable\"><input class=\"sk-toggleable__control sk-hidden--visually\" id=\"sk-estimator-id-39\" type=\"checkbox\" ><label for=\"sk-estimator-id-39\" class=\"sk-toggleable__label sk-toggleable__label-arrow\">FunctionTransformer</label><div class=\"sk-toggleable__content\"><pre>FunctionTransformer(feature_names_out=&lt;function ratio_name at 0x7f4c297593f0&gt;,\n",
       "                    func=&lt;function column_ratio at 0x7f4c29b08310&gt;)</pre></div></div></div><div class=\"sk-item\"><div class=\"sk-estimator sk-toggleable\"><input class=\"sk-toggleable__control sk-hidden--visually\" id=\"sk-estimator-id-40\" type=\"checkbox\" ><label for=\"sk-estimator-id-40\" class=\"sk-toggleable__label sk-toggleable__label-arrow\">StandardScaler</label><div class=\"sk-toggleable__content\"><pre>StandardScaler()</pre></div></div></div></div></div></div></div></div><div class=\"sk-parallel-item\"><div class=\"sk-item\"><div class=\"sk-label-container\"><div class=\"sk-label sk-toggleable\"><input class=\"sk-toggleable__control sk-hidden--visually\" id=\"sk-estimator-id-41\" type=\"checkbox\" ><label for=\"sk-estimator-id-41\" class=\"sk-toggleable__label sk-toggleable__label-arrow\">people_per_house</label><div class=\"sk-toggleable__content\"><pre>[&#x27;population&#x27;, &#x27;households&#x27;]</pre></div></div></div><div class=\"sk-serial\"><div class=\"sk-item\"><div class=\"sk-serial\"><div class=\"sk-item\"><div class=\"sk-estimator sk-toggleable\"><input class=\"sk-toggleable__control sk-hidden--visually\" id=\"sk-estimator-id-42\" type=\"checkbox\" ><label for=\"sk-estimator-id-42\" class=\"sk-toggleable__label sk-toggleable__label-arrow\">SimpleImputer</label><div class=\"sk-toggleable__content\"><pre>SimpleImputer(strategy=&#x27;median&#x27;)</pre></div></div></div><div class=\"sk-item\"><div class=\"sk-estimator sk-toggleable\"><input class=\"sk-toggleable__control sk-hidden--visually\" id=\"sk-estimator-id-43\" type=\"checkbox\" ><label for=\"sk-estimator-id-43\" class=\"sk-toggleable__label sk-toggleable__label-arrow\">FunctionTransformer</label><div class=\"sk-toggleable__content\"><pre>FunctionTransformer(feature_names_out=&lt;function ratio_name at 0x7f4c297593f0&gt;,\n",
       "                    func=&lt;function column_ratio at 0x7f4c29b08310&gt;)</pre></div></div></div><div class=\"sk-item\"><div class=\"sk-estimator sk-toggleable\"><input class=\"sk-toggleable__control sk-hidden--visually\" id=\"sk-estimator-id-44\" type=\"checkbox\" ><label for=\"sk-estimator-id-44\" class=\"sk-toggleable__label sk-toggleable__label-arrow\">StandardScaler</label><div class=\"sk-toggleable__content\"><pre>StandardScaler()</pre></div></div></div></div></div></div></div></div><div class=\"sk-parallel-item\"><div class=\"sk-item\"><div class=\"sk-label-container\"><div class=\"sk-label sk-toggleable\"><input class=\"sk-toggleable__control sk-hidden--visually\" id=\"sk-estimator-id-45\" type=\"checkbox\" ><label for=\"sk-estimator-id-45\" class=\"sk-toggleable__label sk-toggleable__label-arrow\">log</label><div class=\"sk-toggleable__content\"><pre>[&#x27;total_bedrooms&#x27;, &#x27;total_rooms&#x27;, &#x27;population&#x27;, &#x27;households&#x27;, &#x27;median_income&#x27;]</pre></div></div></div><div class=\"sk-serial\"><div class=\"sk-item\"><div class=\"sk-serial\"><div class=\"sk-item\"><div class=\"sk-estimator sk-toggleable\"><input class=\"sk-toggleable__control sk-hidden--visually\" id=\"sk-estimator-id-46\" type=\"checkbox\" ><label for=\"sk-estimator-id-46\" class=\"sk-toggleable__label sk-toggleable__label-arrow\">SimpleImputer</label><div class=\"sk-toggleable__content\"><pre>SimpleImputer(strategy=&#x27;median&#x27;)</pre></div></div></div><div class=\"sk-item\"><div class=\"sk-estimator sk-toggleable\"><input class=\"sk-toggleable__control sk-hidden--visually\" id=\"sk-estimator-id-47\" type=\"checkbox\" ><label for=\"sk-estimator-id-47\" class=\"sk-toggleable__label sk-toggleable__label-arrow\">FunctionTransformer</label><div class=\"sk-toggleable__content\"><pre>FunctionTransformer(feature_names_out=&#x27;one-to-one&#x27;, func=&lt;ufunc &#x27;log&#x27;&gt;)</pre></div></div></div><div class=\"sk-item\"><div class=\"sk-estimator sk-toggleable\"><input class=\"sk-toggleable__control sk-hidden--visually\" id=\"sk-estimator-id-48\" type=\"checkbox\" ><label for=\"sk-estimator-id-48\" class=\"sk-toggleable__label sk-toggleable__label-arrow\">StandardScaler</label><div class=\"sk-toggleable__content\"><pre>StandardScaler()</pre></div></div></div></div></div></div></div></div><div class=\"sk-parallel-item\"><div class=\"sk-item\"><div class=\"sk-label-container\"><div class=\"sk-label sk-toggleable\"><input class=\"sk-toggleable__control sk-hidden--visually\" id=\"sk-estimator-id-49\" type=\"checkbox\" ><label for=\"sk-estimator-id-49\" class=\"sk-toggleable__label sk-toggleable__label-arrow\">geo</label><div class=\"sk-toggleable__content\"><pre>[&#x27;latitude&#x27;, &#x27;longitude&#x27;]</pre></div></div></div><div class=\"sk-serial\"><div class=\"sk-item\"><div class=\"sk-estimator sk-toggleable\"><input class=\"sk-toggleable__control sk-hidden--visually\" id=\"sk-estimator-id-50\" type=\"checkbox\" ><label for=\"sk-estimator-id-50\" class=\"sk-toggleable__label sk-toggleable__label-arrow\">ClusterSimilarity</label><div class=\"sk-toggleable__content\"><pre>ClusterSimilarity(gamma=1, n_clusters=29, random_state=42)</pre></div></div></div></div></div></div><div class=\"sk-parallel-item\"><div class=\"sk-item\"><div class=\"sk-label-container\"><div class=\"sk-label sk-toggleable\"><input class=\"sk-toggleable__control sk-hidden--visually\" id=\"sk-estimator-id-51\" type=\"checkbox\" ><label for=\"sk-estimator-id-51\" class=\"sk-toggleable__label sk-toggleable__label-arrow\">cat</label><div class=\"sk-toggleable__content\"><pre>&lt;sklearn.compose._column_transformer.make_column_selector object at 0x7f4c292f12d0&gt;</pre></div></div></div><div class=\"sk-serial\"><div class=\"sk-item\"><div class=\"sk-serial\"><div class=\"sk-item\"><div class=\"sk-estimator sk-toggleable\"><input class=\"sk-toggleable__control sk-hidden--visually\" id=\"sk-estimator-id-52\" type=\"checkbox\" ><label for=\"sk-estimator-id-52\" class=\"sk-toggleable__label sk-toggleable__label-arrow\">SimpleImputer</label><div class=\"sk-toggleable__content\"><pre>SimpleImputer(strategy=&#x27;most_frequent&#x27;)</pre></div></div></div><div class=\"sk-item\"><div class=\"sk-estimator sk-toggleable\"><input class=\"sk-toggleable__control sk-hidden--visually\" id=\"sk-estimator-id-53\" type=\"checkbox\" ><label for=\"sk-estimator-id-53\" class=\"sk-toggleable__label sk-toggleable__label-arrow\">OneHotEncoder</label><div class=\"sk-toggleable__content\"><pre>OneHotEncoder(handle_unknown=&#x27;ignore&#x27;)</pre></div></div></div></div></div></div></div></div><div class=\"sk-parallel-item\"><div class=\"sk-item\"><div class=\"sk-label-container\"><div class=\"sk-label sk-toggleable\"><input class=\"sk-toggleable__control sk-hidden--visually\" id=\"sk-estimator-id-54\" type=\"checkbox\" ><label for=\"sk-estimator-id-54\" class=\"sk-toggleable__label sk-toggleable__label-arrow\">age</label><div class=\"sk-toggleable__content\"><pre>[&#x27;housing_median_age&#x27;]</pre></div></div></div><div class=\"sk-serial\"><div class=\"sk-item\"><div class=\"sk-estimator sk-toggleable\"><input class=\"sk-toggleable__control sk-hidden--visually\" id=\"sk-estimator-id-55\" type=\"checkbox\" ><label for=\"sk-estimator-id-55\" class=\"sk-toggleable__label sk-toggleable__label-arrow\">ClusterSimilarity</label><div class=\"sk-toggleable__content\"><pre>ClusterSimilarity(n_clusters=2, random_state=42)</pre></div></div></div></div></div></div><div class=\"sk-parallel-item\"><div class=\"sk-item\"><div class=\"sk-label-container\"><div class=\"sk-label sk-toggleable\"><input class=\"sk-toggleable__control sk-hidden--visually\" id=\"sk-estimator-id-56\" type=\"checkbox\" ><label for=\"sk-estimator-id-56\" class=\"sk-toggleable__label sk-toggleable__label-arrow\">remainder</label><div class=\"sk-toggleable__content\"><pre>[]</pre></div></div></div><div class=\"sk-serial\"><div class=\"sk-item\"><div class=\"sk-serial\"><div class=\"sk-item\"><div class=\"sk-estimator sk-toggleable\"><input class=\"sk-toggleable__control sk-hidden--visually\" id=\"sk-estimator-id-57\" type=\"checkbox\" ><label for=\"sk-estimator-id-57\" class=\"sk-toggleable__label sk-toggleable__label-arrow\">SimpleImputer</label><div class=\"sk-toggleable__content\"><pre>SimpleImputer(strategy=&#x27;median&#x27;)</pre></div></div></div><div class=\"sk-item\"><div class=\"sk-estimator sk-toggleable\"><input class=\"sk-toggleable__control sk-hidden--visually\" id=\"sk-estimator-id-58\" type=\"checkbox\" ><label for=\"sk-estimator-id-58\" class=\"sk-toggleable__label sk-toggleable__label-arrow\">StandardScaler</label><div class=\"sk-toggleable__content\"><pre>StandardScaler()</pre></div></div></div></div></div></div></div></div></div></div><div class=\"sk-item\"><div class=\"sk-estimator sk-toggleable\"><input class=\"sk-toggleable__control sk-hidden--visually\" id=\"sk-estimator-id-59\" type=\"checkbox\" ><label for=\"sk-estimator-id-59\" class=\"sk-toggleable__label sk-toggleable__label-arrow\">RandomForestRegressor</label><div class=\"sk-toggleable__content\"><pre>RandomForestRegressor(max_features=4, random_state=42)</pre></div></div></div></div></div></div></div>"
      ],
      "text/plain": [
       "Pipeline(steps=[('preprocessing',\n",
       "                 ColumnTransformer(remainder=Pipeline(steps=[('impute',\n",
       "                                                              SimpleImputer(strategy='median')),\n",
       "                                                             ('standardize',\n",
       "                                                              StandardScaler())]),\n",
       "                                   transformers=[('bedrooms',\n",
       "                                                  Pipeline(steps=[('impute',\n",
       "                                                                   SimpleImputer(strategy='median')),\n",
       "                                                                  ('computeRatio',\n",
       "                                                                   FunctionTransformer(feature_names_out=<function ratio_name at 0x7f4c297593f0>,\n",
       "                                                                                       func=<function col...\n",
       "                                                  Pipeline(steps=[('impute',\n",
       "                                                                   SimpleImputer(strategy='most_frequent')),\n",
       "                                                                  ('OneHotEncoder',\n",
       "                                                                   OneHotEncoder(handle_unknown='ignore'))]),\n",
       "                                                  <sklearn.compose._column_transformer.make_column_selector object at 0x7f4c292f12d0>),\n",
       "                                                 ('age',\n",
       "                                                  ClusterSimilarity(n_clusters=2,\n",
       "                                                                    random_state=42),\n",
       "                                                  ['housing_median_age'])])),\n",
       "                ('ForestReg',\n",
       "                 RandomForestRegressor(max_features=4, random_state=42))])"
      ]
     },
     "execution_count": 17,
     "metadata": {},
     "output_type": "execute_result"
    }
   ],
   "source": [
    "rand_ForestReg = rand_search.best_estimator_\n",
    "rand_ForestReg"
   ]
  },
  {
   "cell_type": "markdown",
   "id": "386c192e-61e7-4078-ac25-68fe5ecdd0d7",
   "metadata": {},
   "source": [
    "### Analyzing the best models and their errors\n",
    "Inspecting the resulting models will give us an insight into the relative importance of each attribute when generating the predictions:"
   ]
  },
  {
   "cell_type": "code",
   "execution_count": 18,
   "id": "d07668f2-e522-4ef3-9465-6c05816aee6a",
   "metadata": {
    "tags": []
   },
   "outputs": [
    {
     "data": {
      "text/plain": [
       "[(0.13758447969201276, 'log__median_income'),\n",
       " (0.06362425700328485, 'rooms_per_house__ratio'),\n",
       " (0.062113571376021845, 'cat__ocean_proximity_INLAND'),\n",
       " (0.06061210653215922, 'bedrooms__ratio'),\n",
       " (0.04697107299145419, 'people_per_house__ratio'),\n",
       " (0.04644721780549303, 'geo__Cluster 15 similarity'),\n",
       " (0.03608348768357887, 'geo__Cluster 3 similarity'),\n",
       " (0.03211445725191155, 'geo__Cluster 2 similarity'),\n",
       " (0.030279065339557987, 'geo__Cluster 8 similarity'),\n",
       " (0.028917127223013338, 'geo__Cluster 13 similarity'),\n",
       " (0.027644254849414022, 'geo__Cluster 27 similarity'),\n",
       " (0.02227458757461301, 'geo__Cluster 28 similarity'),\n",
       " (0.021840881856364958, 'geo__Cluster 21 similarity'),\n",
       " (0.021359360802026477, 'geo__Cluster 22 similarity'),\n",
       " (0.021069789112641485, 'geo__Cluster 25 similarity'),\n",
       " (0.020670228400098595, 'geo__Cluster 26 similarity'),\n",
       " (0.02016418531582129, 'geo__Cluster 17 similarity'),\n",
       " (0.020025893268308212, 'geo__Cluster 7 similarity'),\n",
       " (0.01925129514174533, 'geo__Cluster 14 similarity'),\n",
       " (0.017548046886050613, 'geo__Cluster 0 similarity'),\n",
       " (0.017403757128994012, 'geo__Cluster 23 similarity'),\n",
       " (0.016511191823001623, 'geo__Cluster 9 similarity'),\n",
       " (0.016484519706561437, 'geo__Cluster 12 similarity'),\n",
       " (0.01628049148139728, 'geo__Cluster 16 similarity'),\n",
       " (0.015790879141321105, 'geo__Cluster 19 similarity'),\n",
       " (0.01506673532181797, 'geo__Cluster 10 similarity'),\n",
       " (0.01393564358987461, 'geo__Cluster 5 similarity'),\n",
       " (0.013584292477306626, 'geo__Cluster 4 similarity'),\n",
       " (0.012786791076426817, 'geo__Cluster 18 similarity'),\n",
       " (0.012295265421527006, 'geo__Cluster 1 similarity'),\n",
       " (0.011179225892731064, 'log__total_rooms'),\n",
       " (0.010630700615124469, 'log__population'),\n",
       " (0.010349691260054479, 'geo__Cluster 20 similarity'),\n",
       " (0.01014073547076235, 'geo__Cluster 24 similarity'),\n",
       " (0.009600760009492563, 'log__households'),\n",
       " (0.009202019900170456, 'log__total_bedrooms'),\n",
       " (0.007964691986783842, 'cat__ocean_proximity_<1H OCEAN'),\n",
       " (0.006931244146094293, 'geo__Cluster 6 similarity'),\n",
       " (0.0051092249674922485, 'geo__Cluster 11 similarity'),\n",
       " (0.004809272108956653, 'cat__ocean_proximity_NEAR OCEAN'),\n",
       " (0.003121250701498388, 'age__Cluster 1 similarity'),\n",
       " (0.0022827559890772017, 'age__Cluster 0 similarity'),\n",
       " (0.0019209895083372693, 'cat__ocean_proximity_NEAR BAY'),\n",
       " (2.2504169624439782e-05, 'cat__ocean_proximity_ISLAND')]"
      ]
     },
     "execution_count": 18,
     "metadata": {},
     "output_type": "execute_result"
    }
   ],
   "source": [
    "final_model = rand_ForestReg\n",
    "final_featuresImportance = final_model[\"ForestReg\"].feature_importances_\n",
    "# [str(x.round(2)*100) + '%'for x in final_featuresImportance] #Useless here, since we are going to sort on the values, and that's not possible if we turn our floats into strings :p\n",
    "sorted(zip(final_featuresImportance, final_model[\"preprocessing\"].get_feature_names_out()), reverse=True)"
   ]
  },
  {
   "cell_type": "markdown",
   "id": "81422aa6-a6b0-4e07-b858-9404a5f857c3",
   "metadata": {},
   "source": [
    "Based on this, we can see that only cat__ocean_proximity_INLAND has a relative importance above 1%, so we might want to transform this categorical boolean where INLAND=True and False for all other categories, removing some less useful features."
   ]
  },
  {
   "cell_type": "markdown",
   "id": "2fee62d1-3bfb-43bd-9df3-5bd021b37f6a",
   "metadata": {},
   "source": [
    "### Evaluate the predictor on the test set"
   ]
  },
  {
   "cell_type": "code",
   "execution_count": 20,
   "id": "53ec8513-55c4-41f3-8f80-dc250e605054",
   "metadata": {
    "tags": []
   },
   "outputs": [
    {
     "name": "stdout",
     "output_type": "stream",
     "text": [
      "RMSE for final model, on test data:  40513.43\n"
     ]
    }
   ],
   "source": [
    "test_housing = strat_test_set.drop(\"median_house_value\", axis=1)\n",
    "test_housing_labels = strat_test_set[\"median_house_value\"].copy()\n",
    "\n",
    "final_predictions = final_model.predict(test_housing)\n",
    "\n",
    "final_rmse = mean_squared_error(test_housing_labels, final_predictions, squared=False)\n",
    "print('RMSE for final model, on test data: ', final_rmse.round(2))"
   ]
  },
  {
   "cell_type": "markdown",
   "id": "bb829322-4523-4703-a729-eeafe7d50854",
   "metadata": {},
   "source": [
    "So, turns out that even though the fine-tuning granted me much lower RMSE on the training data, this did not translate to significantly improved results when predicting the test data, and I've even remained in the range from the book.\n",
    "\n",
    "For completeness' sake, lets' compute the 95CI of our estimate:"
   ]
  },
  {
   "cell_type": "code",
   "execution_count": 21,
   "id": "d63cd63d-45a7-4c83-b8bb-0d3a701c0a07",
   "metadata": {
    "tags": []
   },
   "outputs": [
    {
     "name": "stdout",
     "output_type": "stream",
     "text": [
      "95% CI for the RMSE of the final model, on test data:  [38395.63 42525.9 ]\n"
     ]
    }
   ],
   "source": [
    "squared_errors = (final_predictions - test_housing_labels)**2\n",
    "CI95 = np.sqrt(stats.t.interval(0.95, len(squared_errors)-1, loc=squared_errors.mean(), scale=stats.sem(squared_errors)))\n",
    "print('95% CI for the RMSE of the final model, on test data: ', CI95.round(2))"
   ]
  },
  {
   "cell_type": "code",
   "execution_count": 22,
   "id": "21fe6d16-47f5-4d08-af12-28ddc5feadde",
   "metadata": {
    "tags": []
   },
   "outputs": [],
   "source": [
    "## Attempt 1\n",
    "# squared_errors_bis = (squared_errors - squared_errors.mean())/stats.sem(squared_errors)\n",
    "# CI95_bis = np.sqrt(stats.t.interval(0.95, len(squared_errors_bis)-1))\n",
    "# CI95_bis\n",
    "\n",
    "## Attempt 2\n",
    "# float_scale = stats.sem(squared_errors)\n",
    "# int_df = len(squared_errors)-1\n",
    "# float_shiftScale_squared_errors = (0.95-squared_errors.mean())/float_scale #TG. Obviously there's an issue here since I'm substracting the mean to 0.95\n",
    "# CI95_bis = np.sqrt(stats.t.interval(float_shiftScale_squared_errors, int_df)/float_scale)\n",
    "\n",
    "## Attempt 3\n",
    "# Oh lol, okay I understand where my confusion comes from!\n",
    "# int_df = len(squared_errors)-1 #We apply -1 due to the definition of RMSE, but this is just the degree of freedom\n",
    "# float_SEM = squared_errors.mean() # This is just the average of the squared error. In the following operation, it simply informs stats.t.interval of the position"
   ]
  },
  {
   "cell_type": "markdown",
   "id": "9e9fc76e-30ad-4d9b-bce2-24a83f029656",
   "metadata": {
    "tags": []
   },
   "source": [
    "## Production Tweaks\n",
    "Enabling tools to simplify launch, update and maintenance of tools is much easier if done from the get go, let's see the most common options presented in the book.\n",
    "For started, saving the final model is straight forward:"
   ]
  },
  {
   "cell_type": "code",
   "execution_count": 23,
   "id": "a3cdc53b-5406-4f9a-95dc-bfed0d60eb2d",
   "metadata": {
    "tags": []
   },
   "outputs": [],
   "source": [
    "# Let's just cerate a small variable to timestamp correctly our model, to avoid crushing previous one and have better traceability\n",
    "finalModel_path = \"Archive/\"+datetime.now().strftime('%Y%m%dT%H%M%S')+\"/\"\n",
    "\n",
    "#Create the folder which will contain the data and model archive\n",
    "os.mkdir(finalModel_path)\n",
    "\n",
    "with open(finalModel_path+\"_final_model.pkl\", 'wb') as file:\n",
    "    joblib.dump(final_model, file)"
   ]
  },
  {
   "cell_type": "markdown",
   "id": "b3b3ba98-d62c-48ce-887f-30a405f3fc9b",
   "metadata": {
    "tags": []
   },
   "source": [
    "If we save the model, we should also save the training and test data, so that we are certain we can get them in the exact same shape/form it was during today's session:"
   ]
  },
  {
   "cell_type": "code",
   "execution_count": 24,
   "id": "17dae643-1ae2-4a78-a8f7-57f60ea20c29",
   "metadata": {
    "tags": []
   },
   "outputs": [],
   "source": [
    "with open(finalModel_path+\"housing.pkl\", 'wb') as file:\n",
    "    pickle.dump(housing, file)\n",
    "\n",
    "with open(finalModel_path+\"housing_labels.pkl\", 'wb') as file:\n",
    "    pickle.dump(housing_labels, file)\n",
    "\n",
    "with open(finalModel_path+\"test_housing.pkl\", 'wb') as file:\n",
    "    pickle.dump(test_housing, file)\n",
    "\n",
    "with open(finalModel_path+\"test_housing_labels.pkl\", 'wb') as file:\n",
    "    pickle.dump(test_housing_labels, file)\n"
   ]
  },
  {
   "cell_type": "markdown",
   "id": "6dc582d0-86b9-4369-b8f3-d7e5086e9840",
   "metadata": {
    "tags": []
   },
   "source": [
    "We can then reload the files:"
   ]
  },
  {
   "cell_type": "code",
   "execution_count": 25,
   "id": "a576372a-9e86-4797-a06c-50ef506735ce",
   "metadata": {
    "tags": []
   },
   "outputs": [
    {
     "name": "stdout",
     "output_type": "stream",
     "text": [
      "14814    285400.0\n",
      "18689    151300.0\n",
      "14930    344000.0\n",
      "5244     158200.0\n",
      "13323    228100.0\n",
      "           ...   \n",
      "20239    300000.0\n",
      "13623    277500.0\n",
      "19426    295600.0\n",
      "1519     115000.0\n",
      "198       99100.0\n",
      "Name: median_house_value, Length: 4128, dtype: float64\n"
     ]
    }
   ],
   "source": [
    "with open(finalModel_path+\"test_housing_labels.pkl\", 'rb') as file:\n",
    "    # Call load method to deserialze\n",
    "    test_housing_labels_reloaded = pickle.load(file)\n",
    "print(test_housing_labels_reloaded)"
   ]
  },
  {
   "cell_type": "code",
   "execution_count": null,
   "id": "8774fa61-3e1d-4bf9-9808-9aec94670f98",
   "metadata": {},
   "outputs": [],
   "source": []
  },
  {
   "cell_type": "code",
   "execution_count": null,
   "id": "08d2033d-685c-4d03-bafa-5db7efd9d3d8",
   "metadata": {},
   "outputs": [],
   "source": []
  },
  {
   "cell_type": "code",
   "execution_count": null,
   "id": "2ee39001-f321-4df1-8d4a-e5da85dd753e",
   "metadata": {},
   "outputs": [],
   "source": []
  },
  {
   "cell_type": "code",
   "execution_count": null,
   "id": "78314c43-5b5e-4f19-a844-4e42fce61c0b",
   "metadata": {},
   "outputs": [],
   "source": []
  },
  {
   "cell_type": "code",
   "execution_count": null,
   "id": "951952ba-06d7-48b3-925a-afffce3c3786",
   "metadata": {},
   "outputs": [],
   "source": []
  }
 ],
 "metadata": {
  "kernelspec": {
   "display_name": "Python 3 (ipykernel)",
   "language": "python",
   "name": "python3"
  },
  "language_info": {
   "codemirror_mode": {
    "name": "ipython",
    "version": 3
   },
   "file_extension": ".py",
   "mimetype": "text/x-python",
   "name": "python",
   "nbconvert_exporter": "python",
   "pygments_lexer": "ipython3",
   "version": "3.10.12"
  }
 },
 "nbformat": 4,
 "nbformat_minor": 5
}
